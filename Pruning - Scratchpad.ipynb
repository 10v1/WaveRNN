{
 "cells": [
  {
   "cell_type": "code",
   "execution_count": 1,
   "metadata": {},
   "outputs": [],
   "source": [
    "import copy, math\n",
    "import torch\n",
    "import torch.nn as nn\n",
    "from utils.display import *"
   ]
  },
  {
   "cell_type": "markdown",
   "metadata": {},
   "source": [
    "#### Visualise the increase in sparisty during training"
   ]
  },
  {
   "cell_type": "code",
   "execution_count": 2,
   "metadata": {},
   "outputs": [],
   "source": [
    "def z(t, Z, t_0, S) : return Z * (1 - (1 - (t - t_0) / S)**3)"
   ]
  },
  {
   "cell_type": "code",
   "execution_count": 3,
   "metadata": {},
   "outputs": [],
   "source": [
    "t_0 = 1000 # Step to start pruning\n",
    "Z = 0.98 # Target sparsity \n",
    "S = 200_000 # Num pruning steps"
   ]
  },
  {
   "cell_type": "code",
   "execution_count": 4,
   "metadata": {},
   "outputs": [],
   "source": [
    "sparsity = []\n",
    "for t in range(t_0, S + t_0 * 2, 1000) :\n",
    "    z_t = z(t, Z, t_0, S)\n",
    "    sparsity += [z_t]"
   ]
  },
  {
   "cell_type": "code",
   "execution_count": 5,
   "metadata": {},
   "outputs": [
    {
     "data": {
      "text/plain": [
       "0.98"
      ]
     },
     "execution_count": 5,
     "metadata": {},
     "output_type": "execute_result"
    },
    {
     "data": {
      "image/png": "[encoded data removed]",
      "text/plain": [
       "<matplotlib.figure.Figure at 0x7fa3bae7ab38>"
      ]
     },
     "metadata": {},
     "output_type": "display_data"
    }
   ],
   "source": [
    "plot(sparsity)\n",
    "sparsity[-1]"
   ]
  },
  {
   "cell_type": "markdown",
   "metadata": {},
   "source": [
    "#### Pick some sparsity at time t and create mask from it"
   ]
  },
  {
   "cell_type": "code",
   "execution_count": 6,
   "metadata": {},
   "outputs": [],
   "source": [
    "# target sparsity @ t\n",
    "z_t = 0.75 "
   ]
  },
  {
   "cell_type": "code",
   "execution_count": 7,
   "metadata": {},
   "outputs": [
    {
     "data": {
      "text/plain": [
       "tensor([[-1.2463,  0.7599, -0.4133, -2.3861],\n",
       "        [ 0.9806,  0.4379, -0.4202, -1.6814],\n",
       "        [-0.3063,  0.4543, -0.3774,  1.8272],\n",
       "        [ 1.5259,  2.8422, -0.8745, -0.2656]])"
      ]
     },
     "execution_count": 7,
     "metadata": {},
     "output_type": "execute_result"
    }
   ],
   "source": [
    "# Our weight matrx\n",
    "size = (4, 4)\n",
    "num_params = size[0] * size[1]\n",
    "W = torch.randn(size) \n",
    "W "
   ]
  },
  {
   "cell_type": "code",
   "execution_count": 8,
   "metadata": {},
   "outputs": [
    {
     "data": {
      "text/plain": [
       "tensor([0.2656, 0.3063, 0.3774, 0.4133, 0.4202, 0.4379, 0.4543, 0.7599, 0.8745,\n",
       "        0.9806, 1.2463, 1.5259, 1.6814, 1.8272, 2.3861, 2.8422])"
      ]
     },
     "execution_count": 8,
     "metadata": {},
     "output_type": "execute_result"
    }
   ],
   "source": [
    "# Sort the magnitudes\n",
    "W_abs = torch.abs(W)\n",
    "sorted_abs, _ = torch.sort(W_abs.view(-1))\n",
    "sorted_abs"
   ]
  },
  {
   "cell_type": "code",
   "execution_count": 9,
   "metadata": {},
   "outputs": [
    {
     "data": {
      "text/plain": [
       "tensor(1.5259)"
      ]
     },
     "execution_count": 9,
     "metadata": {},
     "output_type": "execute_result"
    }
   ],
   "source": [
    "# Pick the threshold \n",
    "target_idx = int(num_params * z_t) - 1\n",
    "threshold = sorted_abs[target_idx]\n",
    "threshold"
   ]
  },
  {
   "cell_type": "code",
   "execution_count": 10,
   "metadata": {},
   "outputs": [
    {
     "data": {
      "text/plain": [
       "tensor([[0., 0., 0., 1.],\n",
       "        [0., 0., 0., 1.],\n",
       "        [0., 0., 0., 1.],\n",
       "        [0., 1., 0., 0.]])"
      ]
     },
     "execution_count": 10,
     "metadata": {},
     "output_type": "execute_result"
    }
   ],
   "source": [
    "# And...BAM we have a mask!\n",
    "mask = (W_abs > threshold).float()\n",
    "mask"
   ]
  },
  {
   "cell_type": "code",
   "execution_count": 11,
   "metadata": {},
   "outputs": [
    {
     "data": {
      "text/plain": [
       "tensor([[-0.0000,  0.0000, -0.0000, -2.3861],\n",
       "        [ 0.0000,  0.0000, -0.0000, -1.6814],\n",
       "        [-0.0000,  0.0000, -0.0000,  1.8272],\n",
       "        [ 0.0000,  2.8422, -0.0000, -0.0000]])"
      ]
     },
     "execution_count": 11,
     "metadata": {},
     "output_type": "execute_result"
    }
   ],
   "source": [
    "# Prune weights\n",
    "W * mask "
   ]
  },
  {
   "cell_type": "code",
   "execution_count": 12,
   "metadata": {},
   "outputs": [
    {
     "data": {
      "text/plain": [
       "(0.75, tensor(0.7500))"
      ]
     },
     "execution_count": 12,
     "metadata": {},
     "output_type": "execute_result"
    }
   ],
   "source": [
    "# double-check sparsity is ok\n",
    "z_t, 1 - mask.sum() / num_params"
   ]
  },
  {
   "cell_type": "markdown",
   "metadata": {},
   "source": [
    "#### Refactor into functions"
   ]
  },
  {
   "cell_type": "code",
   "execution_count": null,
   "metadata": {},
   "outputs": [],
   "source": []
  },
  {
   "cell_type": "code",
   "execution_count": null,
   "metadata": {},
   "outputs": [],
   "source": []
  },
  {
   "cell_type": "code",
   "execution_count": null,
   "metadata": {},
   "outputs": [],
   "source": []
  },
  {
   "cell_type": "code",
   "execution_count": null,
   "metadata": {},
   "outputs": [],
   "source": []
  },
  {
   "cell_type": "code",
   "execution_count": null,
   "metadata": {},
   "outputs": [],
   "source": []
  },
  {
   "cell_type": "code",
   "execution_count": 27,
   "metadata": {},
   "outputs": [],
   "source": [
    "def np_now(tensor) : return tensor.detach().cpu().numpy()"
   ]
  },
  {
   "cell_type": "code",
   "execution_count": 28,
   "metadata": {},
   "outputs": [],
   "source": [
    "def clamp(x, lo=0, hi=1) : return max(lo, min(hi, x))"
   ]
  },
  {
   "cell_type": "code",
   "execution_count": 29,
   "metadata": {
    "code_folding": []
   },
   "outputs": [],
   "source": [
    "class PruneMask(nn.Module) :\n",
    "    def __init__(self) :\n",
    "        super().__init__()\n",
    "        self.mask = None\n",
    "        self.num_params = None\n",
    "\n",
    "    def mask_from_matrix(self, W, z) :    \n",
    "        # Sort the magnitudes\n",
    "        W_abs = torch.abs(W)\n",
    "        sorted_abs, _ = torch.sort(W_abs.view(-1))\n",
    "\n",
    "        # Pick the threshold \n",
    "        target_idx = int(W.size(0) * W.size(1) * z) - 1\n",
    "        threshold = sorted_abs[target_idx]\n",
    "\n",
    "        # Create the mask\n",
    "        return (W_abs > threshold).float()        "
   ]
  },
  {
   "cell_type": "code",
   "execution_count": 16,
   "metadata": {},
   "outputs": [],
   "source": [
    "class DenseMask(PruneMask) :\n",
    "    def __init__(self, layer) :\n",
    "        super().__init__()\n",
    "        self.init_mask(layer)\n",
    "    \n",
    "    def init_mask(self, layer) :\n",
    "        size = layer.weight.size()\n",
    "        self.mask = nn.Parameter(torch.ones(size), requires_grad=False)\n",
    "        self.num_params = size[0] * size[1]\n",
    "    \n",
    "    def update_mask(self, layer, z) :\n",
    "        self.mask.data = self.mask_from_matrix(layer.weight.data, z)\n",
    "                        \n",
    "    def apply_mask(self, layer) :\n",
    "        layer.weight.data = layer.weight.data * self.mask    "
   ]
  },
  {
   "cell_type": "code",
   "execution_count": 17,
   "metadata": {},
   "outputs": [],
   "source": [
    "class GRUMask(PruneMask) :    \n",
    "    def __init__(self, layer) :\n",
    "        super().__init__()\n",
    "        self.init_mask(layer)\n",
    "    \n",
    "    def init_mask(self, layer) :    \n",
    "        size = layer.weight_hh_l0.size()\n",
    "        self.mask = nn.Parameter(torch.ones(size), requires_grad=False)\n",
    "        self.num_params = size[0] * size[1]\n",
    "        \n",
    "    def mask_from_gru(self, G, z) :\n",
    "        # Split up the fused matrix\n",
    "        n = G.size(0) // 3\n",
    "        gates = [G[i*n:(i+1)*n] for i in range(3)]\n",
    "\n",
    "        # Prune each gate\n",
    "        gate_masks = []\n",
    "        for W in gates : \n",
    "            gate_masks += [self.mask_from_matrix(W, z)]\n",
    "        return torch.cat(gate_masks)\n",
    "    \n",
    "    def update_mask(self, layer, z) :\n",
    "        self.mask.data = self.mask_from_gru(layer.weight_hh_l0.data, z)\n",
    "        \n",
    "    def apply_mask(self, layer) :\n",
    "        layer.weight_hh_l0.data = layer.weight_hh_l0.data * self.mask"
   ]
  },
  {
   "cell_type": "code",
   "execution_count": 21,
   "metadata": {},
   "outputs": [],
   "source": [
    "class Pruner(nn.Module) :\n",
    "    def __init__(self, layers, start_step, n_steps, \n",
    "                 target_sparsity, plastic=False) :\n",
    "        super().__init__()\n",
    "        self.z = 0\n",
    "        self.t_0 = start_step\n",
    "        self.S = n_steps\n",
    "        self.Z = target_sparsity\n",
    "        self.plastic = plastic\n",
    "        self.masks = []\n",
    "        for layer in layers : \n",
    "            self.masks += [self.get_mask(layer)]\n",
    "        \n",
    "    def update_sparsity(self, t) :\n",
    "        z = self.Z * (1 - (1 - (t - self.t_0) / self.S)**3)\n",
    "        self.z = clamp(z, 0, self.Z)\n",
    "    \n",
    "    def forward(self, layers, t) :\n",
    "        self.update_sparsity(t)\n",
    "        for (l, m) in zip(layers, self.masks) :\n",
    "            m.update_mask(l, self.z)\n",
    "            m.apply_mask(l)\n",
    "    \n",
    "    def get_mask(self, layer) :\n",
    "        layer_type = str(layer).split('(')[0]\n",
    "        print(layer_type )\n",
    "        if layer_type == 'GRU' :\n",
    "            mask = GRUMask(layer)\n",
    "        elif layer_type == 'Linear' :\n",
    "            mask = DenseMask(layer)\n",
    "        return mask"
   ]
  },
  {
   "cell_type": "code",
   "execution_count": 22,
   "metadata": {},
   "outputs": [],
   "source": [
    "class Model(nn.Module) :\n",
    "    def __init__(self) :\n",
    "        super().__init__()\n",
    "        dc = copy.deepcopy\n",
    "        self.rnn = nn.GRU(2, 2)\n",
    "        self.fc = nn.Linear(2, 2)\n",
    "        self.layers2prune = [self.rnn, self.fc]\n",
    "        self.pruner = Pruner(self.layers2prune, 1000, 200_000, 0.98)\n",
    "        self.t = nn.Parameter(torch.zeros(1), requires_grad=False)\n",
    "        \n",
    "    def forward(self, x) :\n",
    "        h = torch.ones(1, 2)\n",
    "        x = self.rnn(x, h)\n",
    "        x = self.fc(x)\n",
    "        \n",
    "        self.prune()\n",
    "        self.step()\n",
    "        \n",
    "        return x\n",
    "    \n",
    "    def step(self) :\n",
    "        self.t += 1\n",
    "    \n",
    "    def prune(self) :\n",
    "        t = np_now(self.t)[0]\n",
    "        self.pruner(self.layers2prune, t)\n"
   ]
  },
  {
   "cell_type": "code",
   "execution_count": 23,
   "metadata": {},
   "outputs": [
    {
     "name": "stdout",
     "output_type": "stream",
     "text": [
      "GRU\n",
      "Linear\n"
     ]
    },
    {
     "data": {
      "text/plain": [
       "OrderedDict([('t', tensor([50000.])),\n",
       "             ('rnn.weight_ih_l0', tensor([[ 0.0987, -0.5551],\n",
       "                      [ 0.1191,  0.7050],\n",
       "                      [-0.0226, -0.2884],\n",
       "                      [ 0.4294, -0.6216],\n",
       "                      [ 0.1763,  0.5504],\n",
       "                      [ 0.0542,  0.3842]])),\n",
       "             ('rnn.weight_hh_l0', tensor([[-0.6126,  0.5330],\n",
       "                      [ 0.3324, -0.1548],\n",
       "                      [-0.1299,  0.0635],\n",
       "                      [ 0.4222, -0.1023],\n",
       "                      [ 0.3096, -0.5720],\n",
       "                      [ 0.5961,  0.3149]])),\n",
       "             ('rnn.bias_ih_l0',\n",
       "              tensor([ 0.6017, -0.5281, -0.6514,  0.6691,  0.0932,  0.2547])),\n",
       "             ('rnn.bias_hh_l0',\n",
       "              tensor([ 0.3714, -0.1580, -0.3394, -0.4609,  0.3081, -0.1764])),\n",
       "             ('fc.weight', tensor([[-0.5558, -0.1578],\n",
       "                      [-0.2857, -0.4465]])),\n",
       "             ('fc.bias', tensor([-0.6745,  0.2735]))])"
      ]
     },
     "execution_count": 23,
     "metadata": {},
     "output_type": "execute_result"
    }
   ],
   "source": [
    "model = Model()\n",
    "model.t += 50_000\n",
    "model.state_dict()"
   ]
  },
  {
   "cell_type": "code",
   "execution_count": 24,
   "metadata": {},
   "outputs": [
    {
     "data": {
      "text/plain": [
       "0.5582385025"
      ]
     },
     "execution_count": 24,
     "metadata": {},
     "output_type": "execute_result"
    }
   ],
   "source": [
    "model.prune()\n",
    "model.pruner.z"
   ]
  },
  {
   "cell_type": "code",
   "execution_count": 25,
   "metadata": {},
   "outputs": [
    {
     "data": {
      "text/plain": [
       "OrderedDict([('t', tensor([50000.])),\n",
       "             ('rnn.weight_ih_l0', tensor([[ 0.0987, -0.5551],\n",
       "                      [ 0.1191,  0.7050],\n",
       "                      [-0.0226, -0.2884],\n",
       "                      [ 0.4294, -0.6216],\n",
       "                      [ 0.1763,  0.5504],\n",
       "                      [ 0.0542,  0.3842]])),\n",
       "             ('rnn.weight_hh_l0', tensor([[-0.6126,  0.5330],\n",
       "                      [ 0.0000, -0.0000],\n",
       "                      [-0.1299,  0.0000],\n",
       "                      [ 0.4222, -0.0000],\n",
       "                      [ 0.0000, -0.5720],\n",
       "                      [ 0.5961,  0.0000]])),\n",
       "             ('rnn.bias_ih_l0',\n",
       "              tensor([ 0.6017, -0.5281, -0.6514,  0.6691,  0.0932,  0.2547])),\n",
       "             ('rnn.bias_hh_l0',\n",
       "              tensor([ 0.3714, -0.1580, -0.3394, -0.4609,  0.3081, -0.1764])),\n",
       "             ('fc.weight', tensor([[-0.5558, -0.0000],\n",
       "                      [-0.0000, -0.4465]])),\n",
       "             ('fc.bias', tensor([-0.6745,  0.2735]))])"
      ]
     },
     "execution_count": 25,
     "metadata": {},
     "output_type": "execute_result"
    }
   ],
   "source": [
    "model.state_dict()"
   ]
  },
  {
   "cell_type": "code",
   "execution_count": 26,
   "metadata": {},
   "outputs": [
    {
     "data": {
      "text/plain": [
       "OrderedDict()"
      ]
     },
     "execution_count": 26,
     "metadata": {},
     "output_type": "execute_result"
    }
   ],
   "source": [
    "model.pruner.state_dict()"
   ]
  },
  {
   "cell_type": "code",
   "execution_count": null,
   "metadata": {},
   "outputs": [],
   "source": []
  },
  {
   "cell_type": "code",
   "execution_count": null,
   "metadata": {},
   "outputs": [],
   "source": []
  },
  {
   "cell_type": "code",
   "execution_count": null,
   "metadata": {},
   "outputs": [],
   "source": []
  },
  {
   "cell_type": "code",
   "execution_count": null,
   "metadata": {},
   "outputs": [],
   "source": []
  },
  {
   "cell_type": "code",
   "execution_count": 46,
   "metadata": {},
   "outputs": [],
   "source": [
    "def np_now(tensor) : return tensor.detach().cpu().numpy()"
   ]
  },
  {
   "cell_type": "code",
   "execution_count": 47,
   "metadata": {},
   "outputs": [],
   "source": [
    "def clamp(x, lo=0, hi=1) : return max(lo, min(hi, x))"
   ]
  },
  {
   "cell_type": "code",
   "execution_count": 56,
   "metadata": {
    "code_folding": []
   },
   "outputs": [],
   "source": [
    "class PruneMask() :\n",
    "    def __init__(self) :\n",
    "        self.mask = None\n",
    "        self.num_params = None\n",
    "\n",
    "    def mask_from_matrix(self, W, z) :    \n",
    "        # Sort the magnitudes\n",
    "        W_abs = torch.abs(W)\n",
    "        sorted_abs, _ = torch.sort(W_abs.view(-1))\n",
    "\n",
    "        # Pick the threshold \n",
    "        target_idx = int(W.size(0) * W.size(1) * z) - 1\n",
    "        threshold = sorted_abs[target_idx]\n",
    "\n",
    "        # Create the mask\n",
    "        return (W_abs > threshold).float()        "
   ]
  },
  {
   "cell_type": "code",
   "execution_count": 57,
   "metadata": {},
   "outputs": [],
   "source": [
    "class DenseMask(PruneMask) :\n",
    "    def __init__(self, layer) :\n",
    "        self.init_mask(layer)\n",
    "    \n",
    "    def init_mask(self, layer) :\n",
    "        size = layer.weight.size()\n",
    "        self.mask = torch.ones(size)\n",
    "        self.num_params = size[0] * size[1]\n",
    "    \n",
    "    def update_mask(self, layer, z) :\n",
    "        self.mask.data = self.mask_from_matrix(layer.weight.data, z)\n",
    "                        \n",
    "    def apply_mask(self, layer) :\n",
    "        layer.weight.data = layer.weight.data * self.mask    "
   ]
  },
  {
   "cell_type": "code",
   "execution_count": 58,
   "metadata": {},
   "outputs": [],
   "source": [
    "class GRUMask(PruneMask) :    \n",
    "    def __init__(self, layer) :\n",
    "        self.init_mask(layer)\n",
    "    \n",
    "    def init_mask(self, layer) :    \n",
    "        size = layer.weight_hh_l0.size()\n",
    "        self.mask = torch.ones(size)\n",
    "        self.num_params = size[0] * size[1]\n",
    "        \n",
    "    def mask_from_gru(self, G, z) :\n",
    "        # Split up the fused matrix\n",
    "        n = G.size(0) // 3\n",
    "        gates = [G[i*n:(i+1)*n] for i in range(3)]\n",
    "\n",
    "        # Prune each gate\n",
    "        gate_masks = []\n",
    "        for W in gates : \n",
    "            gate_masks += [self.mask_from_matrix(W, z)]\n",
    "        return torch.cat(gate_masks)\n",
    "    \n",
    "    def update_mask(self, layer, z) :\n",
    "        self.mask = self.mask_from_gru(layer.weight_hh_l0.data, z)\n",
    "        \n",
    "    def apply_mask(self, layer) :\n",
    "        layer.weight_hh_l0.data = layer.weight_hh_l0.data * self.mask"
   ]
  },
  {
   "cell_type": "code",
   "execution_count": 59,
   "metadata": {},
   "outputs": [],
   "source": [
    "class Pruner() :\n",
    "    def __init__(self, layers, start_step, n_steps, \n",
    "                 target_sparsity, plastic=False) :\n",
    "        self.z = 0\n",
    "        self.t_0 = start_step\n",
    "        self.S = n_steps\n",
    "        self.Z = target_sparsity\n",
    "        self.plastic = plastic\n",
    "        self.masks = []\n",
    "        for layer in layers : \n",
    "            self.masks += [self.get_mask(layer)]\n",
    "        \n",
    "    def update_sparsity(self, t) :\n",
    "        z = self.Z * (1 - (1 - (t - self.t_0) / self.S)**3)\n",
    "        self.z = clamp(z, 0, self.Z)\n",
    "    \n",
    "    def prune(self, layers, t) :\n",
    "        self.update_sparsity(t)\n",
    "        for (l, m) in zip(layers, self.masks) :\n",
    "            m.update_mask(l, self.z)\n",
    "            m.apply_mask(l)\n",
    "    \n",
    "    def get_mask(self, layer) :\n",
    "        layer_type = str(layer).split('(')[0]\n",
    "        print(layer_type )\n",
    "        if layer_type == 'GRU' :\n",
    "            mask = GRUMask(layer)\n",
    "        elif layer_type == 'Linear' :\n",
    "            mask = DenseMask(layer)\n",
    "        return mask"
   ]
  },
  {
   "cell_type": "code",
   "execution_count": 60,
   "metadata": {},
   "outputs": [],
   "source": [
    "class Model(nn.Module) :\n",
    "    def __init__(self) :\n",
    "        super().__init__()\n",
    "        self.rnn = nn.GRU(2, 2)\n",
    "        self.fc = nn.Linear(2, 2)\n",
    "        self.layers2prune = [self.rnn, self.fc]\n",
    "        self.pruner = Pruner(self.layers2prune, 1000, 200_000, 0.98)\n",
    "        self.t = nn.Parameter(torch.zeros(1), requires_grad=False)\n",
    "        \n",
    "    def forward(self, x) :\n",
    "        h = torch.ones(1, 2)\n",
    "        x = self.rnn(x, h)\n",
    "        x = self.fc(x)\n",
    "        \n",
    "        self.prune()\n",
    "        self.step()\n",
    "        \n",
    "        return x\n",
    "    \n",
    "    def step(self) :\n",
    "        self.t += 1\n",
    "    \n",
    "    def prune(self) :\n",
    "        t = np_now(self.t)[0]\n",
    "        self.pruner.prune(self.layers2prune, t)\n"
   ]
  },
  {
   "cell_type": "code",
   "execution_count": 75,
   "metadata": {},
   "outputs": [
    {
     "name": "stdout",
     "output_type": "stream",
     "text": [
      "GRU\n",
      "Linear\n"
     ]
    },
    {
     "data": {
      "text/plain": [
       "OrderedDict([('t', tensor([44000.])),\n",
       "             ('rnn.weight_ih_l0', tensor([[ 0.4188,  0.2847],\n",
       "                      [ 0.6929, -0.6133],\n",
       "                      [ 0.4902,  0.1933],\n",
       "                      [-0.0470,  0.4120],\n",
       "                      [-0.5915, -0.4859],\n",
       "                      [ 0.4435,  0.2212]])),\n",
       "             ('rnn.weight_hh_l0', tensor([[ 0.3118, -0.0459],\n",
       "                      [ 0.3204, -0.6600],\n",
       "                      [-0.0631, -0.4160],\n",
       "                      [-0.5841, -0.5951],\n",
       "                      [-0.2272,  0.1272],\n",
       "                      [ 0.6513, -0.5933]])),\n",
       "             ('rnn.bias_ih_l0',\n",
       "              tensor([ 0.5485, -0.6841,  0.4313, -0.7063,  0.4911, -0.6876])),\n",
       "             ('rnn.bias_hh_l0',\n",
       "              tensor([-0.1492, -0.3885,  0.2702, -0.0892, -0.2342, -0.2213])),\n",
       "             ('fc.weight', tensor([[-0.4756, -0.6594],\n",
       "                      [ 0.3927, -0.0028]])),\n",
       "             ('fc.bias', tensor([0.6800, 0.4384]))])"
      ]
     },
     "execution_count": 75,
     "metadata": {},
     "output_type": "execute_result"
    }
   ],
   "source": [
    "model = Model()\n",
    "model.t += 44_000\n",
    "model.state_dict()"
   ]
  },
  {
   "cell_type": "code",
   "execution_count": 76,
   "metadata": {},
   "outputs": [
    {
     "data": {
      "text/plain": [
       "0.5059381075"
      ]
     },
     "execution_count": 76,
     "metadata": {},
     "output_type": "execute_result"
    }
   ],
   "source": [
    "model.prune()\n",
    "model.pruner.z"
   ]
  },
  {
   "cell_type": "code",
   "execution_count": 77,
   "metadata": {},
   "outputs": [
    {
     "data": {
      "text/plain": [
       "OrderedDict([('t', tensor([44000.])),\n",
       "             ('rnn.weight_ih_l0', tensor([[ 0.4188,  0.2847],\n",
       "                      [ 0.6929, -0.6133],\n",
       "                      [ 0.4902,  0.1933],\n",
       "                      [-0.0470,  0.4120],\n",
       "                      [-0.5915, -0.4859],\n",
       "                      [ 0.4435,  0.2212]])),\n",
       "             ('rnn.weight_hh_l0', tensor([[ 0.0000, -0.0000],\n",
       "                      [ 0.3204, -0.6600],\n",
       "                      [-0.0000, -0.0000],\n",
       "                      [-0.5841, -0.5951],\n",
       "                      [-0.0000,  0.0000],\n",
       "                      [ 0.6513, -0.5933]])),\n",
       "             ('rnn.bias_ih_l0',\n",
       "              tensor([ 0.5485, -0.6841,  0.4313, -0.7063,  0.4911, -0.6876])),\n",
       "             ('rnn.bias_hh_l0',\n",
       "              tensor([-0.1492, -0.3885,  0.2702, -0.0892, -0.2342, -0.2213])),\n",
       "             ('fc.weight', tensor([[-0.4756, -0.6594],\n",
       "                      [ 0.0000, -0.0000]])),\n",
       "             ('fc.bias', tensor([0.6800, 0.4384]))])"
      ]
     },
     "execution_count": 77,
     "metadata": {},
     "output_type": "execute_result"
    }
   ],
   "source": [
    "model.state_dict()"
   ]
  },
  {
   "cell_type": "code",
   "execution_count": null,
   "metadata": {},
   "outputs": [],
   "source": []
  },
  {
   "cell_type": "code",
   "execution_count": null,
   "metadata": {},
   "outputs": [],
   "source": []
  },
  {
   "cell_type": "code",
   "execution_count": null,
   "metadata": {},
   "outputs": [],
   "source": []
  },
  {
   "cell_type": "code",
   "execution_count": null,
   "metadata": {},
   "outputs": [],
   "source": []
  },
  {
   "cell_type": "code",
   "execution_count": null,
   "metadata": {},
   "outputs": [],
   "source": []
  }
 ],
 "metadata": {
  "kernelspec": {
   "display_name": "Python 3",
   "language": "python",
   "name": "python3"
  },
  "language_info": {
   "codemirror_mode": {
    "name": "ipython",
    "version": 3
   },
   "file_extension": ".py",
   "mimetype": "text/x-python",
   "name": "python",
   "nbconvert_exporter": "python",
   "pygments_lexer": "ipython3",
   "version": "3.6.4"
  }
 },
 "nbformat": 4,
 "nbformat_minor": 2
}
